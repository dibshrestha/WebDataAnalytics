{
 "cells": [
  {
   "cell_type": "code",
   "execution_count": 1,
   "metadata": {},
   "outputs": [],
   "source": [
    "import time\n",
    "import random\n",
    "import csv\n",
    "from urllib.request import FancyURLopener\n",
    "from random import choice\n",
    "import bs4 as bs\n",
    "from bs4 import SoupStrainer\n",
    "from bs4 import BeautifulSoup\n",
    "\n",
    "import pandas as pd\n",
    "\n",
    "import json"
   ]
  },
  {
   "cell_type": "code",
   "execution_count": 2,
   "metadata": {},
   "outputs": [],
   "source": [
    "user_agents = [\n",
    "    'Mozilla/5.0 (Windows NT 6.1) AppleWebKit/537.36 (KHTML, like Gecko) Chrome/41.0.2228.0 Safari/537.36',\n",
    "    'Opera/9.80 (X11; Linux i686; Ubuntu/14.10) Presto/2.12.388 Version/12.16',\n",
    "    'Mozilla/5.0 (Windows; U; Windows NT 6.1; rv:2.2) Gecko/20110201',\n",
    "    'Mozilla/5.0 (Macintosh; Intel Mac OS X 10_9_3) AppleWebKit/537.75.14 (KHTML, like Gecko) Version/7.0.3 Safari/7046A194A',\n",
    "    'Mozilla/5.0 (Windows NT 10.0; Win64; x64) AppleWebKit/537.36 (KHTML, like Gecko) Chrome/42.0.2311.135 Safari/537.36 Edge/12.246'\n",
    "]"
   ]
  },
  {
   "cell_type": "code",
   "execution_count": 3,
   "metadata": {},
   "outputs": [],
   "source": [
    "class MyOpener(FancyURLopener, object):\n",
    "    version = choice(user_agents)\n",
    "\n"
   ]
  },
  {
   "cell_type": "code",
   "execution_count": 4,
   "metadata": {},
   "outputs": [],
   "source": [
    "num_pages = 50\n",
    "urls = []\n",
    "\n",
    "for i in range(1, num_pages + 1):\n",
    "    urls.append(\"https://www.kickstarter.com/discover/advanced?woe_id=23424977&raised=2&sort=end_date&seed=2624631&page=\" + str(i))\n",
    "    urls.append(\"https://www.kickstarter.com/discover/advanced?woe_id=23424977&raised=0&sort=end_date&seed=2624663&page=\" + str(i))\n",
    "    \n",
    "    \n",
    "    "
   ]
  },
  {
   "cell_type": "code",
   "execution_count": 5,
   "metadata": {},
   "outputs": [],
   "source": [
    "project_id = []\n",
    "name = []\n",
    "blurb = []\n",
    "goal = []\n",
    "pledged = []\n",
    "deadline = []\n",
    "launched_at = []\n",
    "state_changed = []\n",
    "backers_count = []\n",
    "percent_funded = []\n",
    "project_category = []\n",
    "project_url = []\n",
    "user_url = []\n",
    "user_name = []"
   ]
  },
  {
   "cell_type": "code",
   "execution_count": 6,
   "metadata": {},
   "outputs": [
    {
     "name": "stdout",
     "output_type": "stream",
     "text": [
      "https://www.kickstarter.com/discover/advanced?woe_id=23424977&raised=2&sort=end_date&seed=2624631&page=1\n"
     ]
    },
    {
     "name": "stderr",
     "output_type": "stream",
     "text": [
      "/Users/dibshrestha/opt/anaconda3/lib/python3.7/site-packages/ipykernel_launcher.py:5: DeprecationWarning: MyOpener style of invoking requests is deprecated. Use newer urlopen functions/methods\n",
      "  \"\"\"\n"
     ]
    },
    {
     "name": "stdout",
     "output_type": "stream",
     "text": [
      "https://www.kickstarter.com/discover/advanced?woe_id=23424977&raised=0&sort=end_date&seed=2624663&page=1\n",
      "https://www.kickstarter.com/discover/advanced?woe_id=23424977&raised=2&sort=end_date&seed=2624631&page=2\n",
      "https://www.kickstarter.com/discover/advanced?woe_id=23424977&raised=0&sort=end_date&seed=2624663&page=2\n",
      "https://www.kickstarter.com/discover/advanced?woe_id=23424977&raised=2&sort=end_date&seed=2624631&page=3\n",
      "https://www.kickstarter.com/discover/advanced?woe_id=23424977&raised=0&sort=end_date&seed=2624663&page=3\n",
      "https://www.kickstarter.com/discover/advanced?woe_id=23424977&raised=2&sort=end_date&seed=2624631&page=4\n",
      "https://www.kickstarter.com/discover/advanced?woe_id=23424977&raised=0&sort=end_date&seed=2624663&page=4\n",
      "https://www.kickstarter.com/discover/advanced?woe_id=23424977&raised=2&sort=end_date&seed=2624631&page=5\n",
      "https://www.kickstarter.com/discover/advanced?woe_id=23424977&raised=0&sort=end_date&seed=2624663&page=5\n",
      "https://www.kickstarter.com/discover/advanced?woe_id=23424977&raised=2&sort=end_date&seed=2624631&page=6\n",
      "https://www.kickstarter.com/discover/advanced?woe_id=23424977&raised=0&sort=end_date&seed=2624663&page=6\n",
      "https://www.kickstarter.com/discover/advanced?woe_id=23424977&raised=2&sort=end_date&seed=2624631&page=7\n",
      "https://www.kickstarter.com/discover/advanced?woe_id=23424977&raised=0&sort=end_date&seed=2624663&page=7\n",
      "https://www.kickstarter.com/discover/advanced?woe_id=23424977&raised=2&sort=end_date&seed=2624631&page=8\n",
      "https://www.kickstarter.com/discover/advanced?woe_id=23424977&raised=0&sort=end_date&seed=2624663&page=8\n",
      "https://www.kickstarter.com/discover/advanced?woe_id=23424977&raised=2&sort=end_date&seed=2624631&page=9\n",
      "https://www.kickstarter.com/discover/advanced?woe_id=23424977&raised=0&sort=end_date&seed=2624663&page=9\n",
      "https://www.kickstarter.com/discover/advanced?woe_id=23424977&raised=2&sort=end_date&seed=2624631&page=10\n",
      "https://www.kickstarter.com/discover/advanced?woe_id=23424977&raised=0&sort=end_date&seed=2624663&page=10\n",
      "https://www.kickstarter.com/discover/advanced?woe_id=23424977&raised=2&sort=end_date&seed=2624631&page=11\n",
      "https://www.kickstarter.com/discover/advanced?woe_id=23424977&raised=0&sort=end_date&seed=2624663&page=11\n",
      "https://www.kickstarter.com/discover/advanced?woe_id=23424977&raised=2&sort=end_date&seed=2624631&page=12\n",
      "https://www.kickstarter.com/discover/advanced?woe_id=23424977&raised=0&sort=end_date&seed=2624663&page=12\n",
      "https://www.kickstarter.com/discover/advanced?woe_id=23424977&raised=2&sort=end_date&seed=2624631&page=13\n",
      "https://www.kickstarter.com/discover/advanced?woe_id=23424977&raised=0&sort=end_date&seed=2624663&page=13\n",
      "https://www.kickstarter.com/discover/advanced?woe_id=23424977&raised=2&sort=end_date&seed=2624631&page=14\n",
      "https://www.kickstarter.com/discover/advanced?woe_id=23424977&raised=0&sort=end_date&seed=2624663&page=14\n",
      "https://www.kickstarter.com/discover/advanced?woe_id=23424977&raised=2&sort=end_date&seed=2624631&page=15\n",
      "https://www.kickstarter.com/discover/advanced?woe_id=23424977&raised=0&sort=end_date&seed=2624663&page=15\n",
      "https://www.kickstarter.com/discover/advanced?woe_id=23424977&raised=2&sort=end_date&seed=2624631&page=16\n",
      "https://www.kickstarter.com/discover/advanced?woe_id=23424977&raised=0&sort=end_date&seed=2624663&page=16\n",
      "https://www.kickstarter.com/discover/advanced?woe_id=23424977&raised=2&sort=end_date&seed=2624631&page=17\n",
      "https://www.kickstarter.com/discover/advanced?woe_id=23424977&raised=0&sort=end_date&seed=2624663&page=17\n",
      "https://www.kickstarter.com/discover/advanced?woe_id=23424977&raised=2&sort=end_date&seed=2624631&page=18\n",
      "https://www.kickstarter.com/discover/advanced?woe_id=23424977&raised=0&sort=end_date&seed=2624663&page=18\n",
      "https://www.kickstarter.com/discover/advanced?woe_id=23424977&raised=2&sort=end_date&seed=2624631&page=19\n",
      "https://www.kickstarter.com/discover/advanced?woe_id=23424977&raised=0&sort=end_date&seed=2624663&page=19\n",
      "https://www.kickstarter.com/discover/advanced?woe_id=23424977&raised=2&sort=end_date&seed=2624631&page=20\n",
      "https://www.kickstarter.com/discover/advanced?woe_id=23424977&raised=0&sort=end_date&seed=2624663&page=20\n",
      "https://www.kickstarter.com/discover/advanced?woe_id=23424977&raised=2&sort=end_date&seed=2624631&page=21\n",
      "https://www.kickstarter.com/discover/advanced?woe_id=23424977&raised=0&sort=end_date&seed=2624663&page=21\n",
      "https://www.kickstarter.com/discover/advanced?woe_id=23424977&raised=2&sort=end_date&seed=2624631&page=22\n",
      "https://www.kickstarter.com/discover/advanced?woe_id=23424977&raised=0&sort=end_date&seed=2624663&page=22\n",
      "https://www.kickstarter.com/discover/advanced?woe_id=23424977&raised=2&sort=end_date&seed=2624631&page=23\n",
      "https://www.kickstarter.com/discover/advanced?woe_id=23424977&raised=0&sort=end_date&seed=2624663&page=23\n",
      "https://www.kickstarter.com/discover/advanced?woe_id=23424977&raised=2&sort=end_date&seed=2624631&page=24\n",
      "https://www.kickstarter.com/discover/advanced?woe_id=23424977&raised=0&sort=end_date&seed=2624663&page=24\n",
      "https://www.kickstarter.com/discover/advanced?woe_id=23424977&raised=2&sort=end_date&seed=2624631&page=25\n",
      "https://www.kickstarter.com/discover/advanced?woe_id=23424977&raised=0&sort=end_date&seed=2624663&page=25\n",
      "https://www.kickstarter.com/discover/advanced?woe_id=23424977&raised=2&sort=end_date&seed=2624631&page=26\n",
      "https://www.kickstarter.com/discover/advanced?woe_id=23424977&raised=0&sort=end_date&seed=2624663&page=26\n",
      "https://www.kickstarter.com/discover/advanced?woe_id=23424977&raised=2&sort=end_date&seed=2624631&page=27\n",
      "https://www.kickstarter.com/discover/advanced?woe_id=23424977&raised=0&sort=end_date&seed=2624663&page=27\n",
      "https://www.kickstarter.com/discover/advanced?woe_id=23424977&raised=2&sort=end_date&seed=2624631&page=28\n",
      "https://www.kickstarter.com/discover/advanced?woe_id=23424977&raised=0&sort=end_date&seed=2624663&page=28\n",
      "https://www.kickstarter.com/discover/advanced?woe_id=23424977&raised=2&sort=end_date&seed=2624631&page=29\n",
      "https://www.kickstarter.com/discover/advanced?woe_id=23424977&raised=0&sort=end_date&seed=2624663&page=29\n",
      "https://www.kickstarter.com/discover/advanced?woe_id=23424977&raised=2&sort=end_date&seed=2624631&page=30\n",
      "https://www.kickstarter.com/discover/advanced?woe_id=23424977&raised=0&sort=end_date&seed=2624663&page=30\n",
      "https://www.kickstarter.com/discover/advanced?woe_id=23424977&raised=2&sort=end_date&seed=2624631&page=31\n",
      "https://www.kickstarter.com/discover/advanced?woe_id=23424977&raised=0&sort=end_date&seed=2624663&page=31\n",
      "https://www.kickstarter.com/discover/advanced?woe_id=23424977&raised=2&sort=end_date&seed=2624631&page=32\n",
      "https://www.kickstarter.com/discover/advanced?woe_id=23424977&raised=0&sort=end_date&seed=2624663&page=32\n",
      "https://www.kickstarter.com/discover/advanced?woe_id=23424977&raised=2&sort=end_date&seed=2624631&page=33\n",
      "https://www.kickstarter.com/discover/advanced?woe_id=23424977&raised=0&sort=end_date&seed=2624663&page=33\n",
      "https://www.kickstarter.com/discover/advanced?woe_id=23424977&raised=2&sort=end_date&seed=2624631&page=34\n",
      "https://www.kickstarter.com/discover/advanced?woe_id=23424977&raised=0&sort=end_date&seed=2624663&page=34\n",
      "https://www.kickstarter.com/discover/advanced?woe_id=23424977&raised=2&sort=end_date&seed=2624631&page=35\n",
      "https://www.kickstarter.com/discover/advanced?woe_id=23424977&raised=0&sort=end_date&seed=2624663&page=35\n",
      "https://www.kickstarter.com/discover/advanced?woe_id=23424977&raised=2&sort=end_date&seed=2624631&page=36\n",
      "https://www.kickstarter.com/discover/advanced?woe_id=23424977&raised=0&sort=end_date&seed=2624663&page=36\n",
      "https://www.kickstarter.com/discover/advanced?woe_id=23424977&raised=2&sort=end_date&seed=2624631&page=37\n",
      "https://www.kickstarter.com/discover/advanced?woe_id=23424977&raised=0&sort=end_date&seed=2624663&page=37\n",
      "https://www.kickstarter.com/discover/advanced?woe_id=23424977&raised=2&sort=end_date&seed=2624631&page=38\n",
      "https://www.kickstarter.com/discover/advanced?woe_id=23424977&raised=0&sort=end_date&seed=2624663&page=38\n",
      "https://www.kickstarter.com/discover/advanced?woe_id=23424977&raised=2&sort=end_date&seed=2624631&page=39\n",
      "https://www.kickstarter.com/discover/advanced?woe_id=23424977&raised=0&sort=end_date&seed=2624663&page=39\n",
      "https://www.kickstarter.com/discover/advanced?woe_id=23424977&raised=2&sort=end_date&seed=2624631&page=40\n"
     ]
    },
    {
     "name": "stdout",
     "output_type": "stream",
     "text": [
      "https://www.kickstarter.com/discover/advanced?woe_id=23424977&raised=0&sort=end_date&seed=2624663&page=40\n",
      "https://www.kickstarter.com/discover/advanced?woe_id=23424977&raised=2&sort=end_date&seed=2624631&page=41\n",
      "https://www.kickstarter.com/discover/advanced?woe_id=23424977&raised=0&sort=end_date&seed=2624663&page=41\n",
      "https://www.kickstarter.com/discover/advanced?woe_id=23424977&raised=2&sort=end_date&seed=2624631&page=42\n",
      "https://www.kickstarter.com/discover/advanced?woe_id=23424977&raised=0&sort=end_date&seed=2624663&page=42\n",
      "https://www.kickstarter.com/discover/advanced?woe_id=23424977&raised=2&sort=end_date&seed=2624631&page=43\n",
      "https://www.kickstarter.com/discover/advanced?woe_id=23424977&raised=0&sort=end_date&seed=2624663&page=43\n",
      "https://www.kickstarter.com/discover/advanced?woe_id=23424977&raised=2&sort=end_date&seed=2624631&page=44\n",
      "https://www.kickstarter.com/discover/advanced?woe_id=23424977&raised=0&sort=end_date&seed=2624663&page=44\n",
      "https://www.kickstarter.com/discover/advanced?woe_id=23424977&raised=2&sort=end_date&seed=2624631&page=45\n",
      "https://www.kickstarter.com/discover/advanced?woe_id=23424977&raised=0&sort=end_date&seed=2624663&page=45\n",
      "https://www.kickstarter.com/discover/advanced?woe_id=23424977&raised=2&sort=end_date&seed=2624631&page=46\n",
      "https://www.kickstarter.com/discover/advanced?woe_id=23424977&raised=0&sort=end_date&seed=2624663&page=46\n",
      "https://www.kickstarter.com/discover/advanced?woe_id=23424977&raised=2&sort=end_date&seed=2624631&page=47\n",
      "https://www.kickstarter.com/discover/advanced?woe_id=23424977&raised=0&sort=end_date&seed=2624663&page=47\n",
      "https://www.kickstarter.com/discover/advanced?woe_id=23424977&raised=2&sort=end_date&seed=2624631&page=48\n",
      "https://www.kickstarter.com/discover/advanced?woe_id=23424977&raised=0&sort=end_date&seed=2624663&page=48\n",
      "https://www.kickstarter.com/discover/advanced?woe_id=23424977&raised=2&sort=end_date&seed=2624631&page=49\n",
      "https://www.kickstarter.com/discover/advanced?woe_id=23424977&raised=0&sort=end_date&seed=2624663&page=49\n",
      "https://www.kickstarter.com/discover/advanced?woe_id=23424977&raised=2&sort=end_date&seed=2624631&page=50\n",
      "https://www.kickstarter.com/discover/advanced?woe_id=23424977&raised=0&sort=end_date&seed=2624663&page=50\n"
     ]
    }
   ],
   "source": [
    "for url in urls:\n",
    "    \n",
    "    print(url)\n",
    "    \n",
    "    myopener = MyOpener()\n",
    "    \n",
    "    time.sleep(random.uniform(1,3))\n",
    "    html = BeautifulSoup(myopener.open(url).read().decode('utf-8'), \"html.parser\")\n",
    "    \n",
    "    project_json_list = html.find_all('div', class_ = 'js-react-proj-card grid-col-12 grid-col-6-sm grid-col-4-lg')\n",
    "\n",
    "    for project_json in project_json_list:\n",
    "        project_json = project_json.get('data-project')\n",
    "        project_json = json.loads(project_json)\n",
    "\n",
    "        project_id.append(project_json['id'])\n",
    "        name.append(project_json['name'])\n",
    "        blurb.append(project_json['blurb'])\n",
    "        goal.append(project_json['goal'])\n",
    "        pledged.append(project_json['pledged'])\n",
    "        deadline.append(project_json['deadline'])\n",
    "        launched_at.append(project_json['launched_at'])\n",
    "        state_changed.append(project_json['state_changed_at'])\n",
    "        backers_count.append(project_json['backers_count'])\n",
    "        percent_funded.append(project_json['percent_funded'])\n",
    "        project_category.append(project_json['category']['name'])\n",
    "        project_url.append(project_json['urls']['web']['project'])\n",
    "        user_url.append(project_json['creator']['urls']['web']['user'])\n",
    "        user_name.append(project_json['creator']['name'])\n",
    "    \n",
    "    \n",
    "    "
   ]
  },
  {
   "cell_type": "code",
   "execution_count": 7,
   "metadata": {},
   "outputs": [],
   "source": [
    "outputdf = pd.DataFrame(list(zip(project_id, name, blurb, pledged, deadline, launched_at, state_changed, backers_count, percent_funded, project_category, project_url, user_url, user_name)), \n",
    "               columns =['project_id', 'name', 'blurb', 'pledged', 'deadline', 'launched_at', 'state_changed', 'backers_count', 'percent_funded', 'project_category', 'project_url', 'user_url', 'user_name'])\n"
   ]
  },
  {
   "cell_type": "code",
   "execution_count": 8,
   "metadata": {},
   "outputs": [],
   "source": [
    "outputdf.to_csv('kickstarter.csv', index=False)"
   ]
  },
  {
   "cell_type": "code",
   "execution_count": null,
   "metadata": {},
   "outputs": [],
   "source": []
  }
 ],
 "metadata": {
  "kernelspec": {
   "display_name": "Python 3",
   "language": "python",
   "name": "python3"
  },
  "language_info": {
   "codemirror_mode": {
    "name": "ipython",
    "version": 3
   },
   "file_extension": ".py",
   "mimetype": "text/x-python",
   "name": "python",
   "nbconvert_exporter": "python",
   "pygments_lexer": "ipython3",
   "version": "3.7.4"
  }
 },
 "nbformat": 4,
 "nbformat_minor": 2
}
