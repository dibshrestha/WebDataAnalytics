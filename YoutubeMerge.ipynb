{
 "cells": [
  {
   "cell_type": "code",
   "execution_count": 5,
   "metadata": {},
   "outputs": [],
   "source": [
    "import pandas as pd"
   ]
  },
  {
   "cell_type": "code",
   "execution_count": 6,
   "metadata": {},
   "outputs": [],
   "source": [
    "df1 = pd.read_csv('youtube1_newnlp.csv', usecols=[\"Product_id\", \"sent_score\"])\n",
    "df2 = pd.read_csv('youtube1_newnlp.csv', usecols=[\"Product_id\", \"sent_score\"])\n",
    "df3 = pd.read_csv('youtube1_newnlp.csv', usecols=[\"Product_id\", \"sent_score\"])\n",
    "df4 = pd.read_csv('youtube1_newnlp.csv', usecols=[\"Product_id\", \"sent_score\"])"
   ]
  },
  {
   "cell_type": "code",
   "execution_count": 7,
   "metadata": {},
   "outputs": [],
   "source": [
    "final_df = df1.append(df2, ignore_index=True)\n",
    "final_df = final_df.append(df3, ignore_index=True)\n",
    "final_df = final_df.append(df4, ignore_index=True)"
   ]
  },
  {
   "cell_type": "code",
   "execution_count": 10,
   "metadata": {},
   "outputs": [],
   "source": [
    "avg = final_df.groupby('Product_id').mean()"
   ]
  },
  {
   "cell_type": "code",
   "execution_count": 11,
   "metadata": {},
   "outputs": [],
   "source": [
    "avg.to_csv('youtube_sentiment.csv')"
   ]
  },
  {
   "cell_type": "code",
   "execution_count": null,
   "metadata": {},
   "outputs": [],
   "source": []
  }
 ],
 "metadata": {
  "kernelspec": {
   "display_name": "Python 3",
   "language": "python",
   "name": "python3"
  },
  "language_info": {
   "codemirror_mode": {
    "name": "ipython",
    "version": 3
   },
   "file_extension": ".py",
   "mimetype": "text/x-python",
   "name": "python",
   "nbconvert_exporter": "python",
   "pygments_lexer": "ipython3",
   "version": "3.7.4"
  }
 },
 "nbformat": 4,
 "nbformat_minor": 2
}
