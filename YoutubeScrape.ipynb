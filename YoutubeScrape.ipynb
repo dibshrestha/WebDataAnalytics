{
 "cells": [
  {
   "cell_type": "code",
   "execution_count": 9,
   "metadata": {},
   "outputs": [
    {
     "name": "stdout",
     "output_type": "stream",
     "text": [
      "Requirement already satisfied: bs4 in c:\\users\\dell\\anaconda3\\lib\\site-packages (0.0.1)\n",
      "Requirement already satisfied: beautifulsoup4 in c:\\users\\dell\\anaconda3\\lib\\site-packages (from bs4) (4.8.0)\n",
      "Requirement already satisfied: soupsieve>=1.2 in c:\\users\\dell\\anaconda3\\lib\\site-packages (from beautifulsoup4->bs4) (1.9.3)\n",
      "Note: you may need to restart the kernel to use updated packages.\n"
     ]
    }
   ],
   "source": [
    "pip install bs4"
   ]
  },
  {
   "cell_type": "code",
   "execution_count": 2,
   "metadata": {},
   "outputs": [],
   "source": [
    "import pandas as pd\n",
    "from urllib.parse import quote\n",
    "data = pd.read_csv(\"kickstarter.csv\")\n",
    "new_list=[]\n",
    "user=[]\n",
    "for i in data.index:\n",
    "    new_list.append((quote(data['name'][i], safe='')).replace(' ','+')+'+kickstarter+'+(quote(data['user_name'][i], safe='')).replace(' ','+'))\n"
   ]
  },
  {
   "cell_type": "code",
   "execution_count": 3,
   "metadata": {},
   "outputs": [],
   "source": [
    "data['new_list']=new_list"
   ]
  },
  {
   "cell_type": "code",
   "execution_count": 4,
   "metadata": {},
   "outputs": [],
   "source": [
    "data1=data"
   ]
  },
  {
   "cell_type": "code",
   "execution_count": 5,
   "metadata": {},
   "outputs": [
    {
     "name": "stdout",
     "output_type": "stream",
     "text": [
      "0\n"
     ]
    },
    {
     "name": "stderr",
     "output_type": "stream",
     "text": [
      "C:\\Users\\dell\\Anaconda3\\lib\\site-packages\\ipykernel_launcher.py:24: DeprecationWarning: use options instead of chrome_options\n",
      "C:\\Users\\dell\\Anaconda3\\lib\\site-packages\\ipykernel_launcher.py:38: DeprecationWarning: use driver.switch_to.window instead\n"
     ]
    },
    {
     "name": "stdout",
     "output_type": "stream",
     "text": [
      "here\n",
      "scraping\n"
     ]
    }
   ],
   "source": [
    "\n",
    "from selenium import webdriver\n",
    "from getpass import getpass\n",
    "from bs4 import BeautifulSoup as bs\n",
    "from selenium import webdriver\n",
    "path=\"chromedriver.exe\"\n",
    "import pandas as pd\n",
    "import time\n",
    "import random\n",
    "from bs4 import BeautifulSoup as bs\n",
    "from selenium.webdriver.chrome.options import Options\n",
    "from selenium.webdriver.common.by import By\n",
    "from selenium.webdriver.common.keys import Keys\n",
    "from selenium.webdriver.support.ui import WebDriverWait\n",
    "from selenium.webdriver.support import expected_conditions as EC\n",
    "product_comments=[]\n",
    "for i in data1.index:\n",
    "        try:\n",
    "            options = webdriver.ChromeOptions()\n",
    "            options.add_argument('--ignore-certificate-errors')\n",
    "            options.add_argument(\"--test-type\")\n",
    "            options.add_argument('--no-sandbox')\n",
    "            options.add_argument('--disable-dev-shm-usage')\n",
    "            driver = webdriver.Chrome(path,chrome_options=options)\n",
    "            driver.maximize_window()\n",
    "\n",
    "            wait = WebDriverWait(driver, 2)\n",
    "            presence = EC.presence_of_element_located\n",
    "            visible = EC.visibility_of_element_located\n",
    "\n",
    "            # Navigate to url with video being appended to search_query\n",
    "            driver.get(\"https://www.youtube.com/results?search_query=\"+data['new_list'][i])\n",
    "            if driver.find_elements_by_css_selector('ytd-background-promo-renderer[renderer-style=\"full-height\"] .promo-title.ytd-background-promo-renderer:not([hidden]).ytd-background-promo-renderer'):\n",
    "                 continue\n",
    "            # play the video\n",
    "            wait.until(visible((By.ID, \"video-title\")))\n",
    "            driver.find_element_by_id(\"video-title\").click()\n",
    "            driver.switch_to_window(driver.window_handles[-1])\n",
    "            time.sleep(2)\n",
    "            driver.get(driver.current_url)\n",
    "            time.sleep(0.5)\n",
    "            time.sleep(5)\n",
    "            #scraping title and description \n",
    "            title = wait.until(EC.presence_of_element_located((By.CSS_SELECTOR,\"h1.title yt-formatted-string\"))).text\n",
    "            element = wait.until(EC.presence_of_element_located((By.CSS_SELECTOR,\"#description.ytd-video-secondary-info-renderer\"))).text\n",
    "            #checking for kickstarter in description and title\n",
    "            \n",
    "            if(((element.lower()).find(\"kickstarter\")>=0 ) or ((title.lower()).find(\"kickstarter\")>=0 )):\n",
    "                driver.execute_script('window.scrollTo(1, 500);')\n",
    "                 #now wait let load the comments\n",
    "                time.sleep(5)\n",
    "                driver.execute_script('window.scrollTo(1, 3000);')\n",
    "                time.sleep(2)\n",
    "                driver.execute_script('window.scrollTo(1, 1000);')\n",
    "                time.sleep(2)\n",
    "                driver.execute_script('window.scrollTo(1, 1000);')\n",
    "                time.sleep(2)\n",
    "                driver.execute_script('window.scrollTo(1, 1000);')\n",
    "                time.sleep(2)\n",
    "                driver.execute_script('window.scrollTo(1, 1000);')\n",
    "                time.sleep(2)\n",
    "                driver.execute_script('window.scrollTo(1, 1000);')\n",
    "                time.sleep(2)\n",
    "                if driver.find_elements_by_css_selector('#message.ytd-message-renderer'):\n",
    "                    message=wait.until(EC.presence_of_element_located((By.CSS_SELECTOR,\"#message.ytd-message-renderer\"))).text\n",
    "                else:\n",
    "                    message=\"comments not turned off\" #checking for comments being turned off\n",
    "                time.sleep(10)\n",
    "    \n",
    "                a=wait.until(EC.presence_of_all_elements_located((By.CSS_SELECTOR, \".count-text.ytd-comments-header-renderer\")))[0].text\n",
    "                if(message.lower().find(\"comments are turned off\")==-1 and a.lower().find(\"0 comments\")==-1): #checking for zero comments\n",
    "                    for comment in wait.until(EC.presence_of_all_elements_located((By.CSS_SELECTOR, \"#content-text.ytd-comment-renderer\"))):\n",
    "                        product_comments.append([data['project_id'][i],comment.text])\n",
    "                else:\n",
    "                    driver.quit()\n",
    "                    continue\n",
    "            driver.quit()\n",
    "        except:\n",
    "            print(\"Timed out in :-\", i)\n"
   ]
  },
  {
   "cell_type": "code",
   "execution_count": 10,
   "metadata": {},
   "outputs": [
    {
     "name": "stderr",
     "output_type": "stream",
     "text": [
      "C:\\Users\\dell\\Anaconda3\\lib\\site-packages\\ipykernel_launcher.py:3: SettingWithCopyWarning: \n",
      "A value is trying to be set on a copy of a slice from a DataFrame\n",
      "\n",
      "See the caveats in the documentation: http://pandas.pydata.org/pandas-docs/stable/user_guide/indexing.html#returning-a-view-versus-a-copy\n",
      "  This is separate from the ipykernel package so we can avoid doing imports until\n",
      "C:\\Users\\dell\\Anaconda3\\lib\\site-packages\\ipykernel_launcher.py:4: SettingWithCopyWarning: \n",
      "A value is trying to be set on a copy of a slice from a DataFrame\n",
      "\n",
      "See the caveats in the documentation: http://pandas.pydata.org/pandas-docs/stable/user_guide/indexing.html#returning-a-view-versus-a-copy\n",
      "  after removing the cwd from sys.path.\n"
     ]
    }
   ],
   "source": [
    "df = pd.DataFrame(data, columns = ['Product_id', 'comment']) \n",
    "for i in range(len(product_comments)):\n",
    "    df['Product_id'][i]=product_comments[i][0]\n",
    "    df['comment'][i]=product_comments[i][1]\n",
    "df.to_csv('youtube_doc.csv',index=False,encoding='utf-8-sig') #saving it as an csv file and applying utf-8 encoding"
   ]
  },
  {
   "cell_type": "code",
   "execution_count": null,
   "metadata": {},
   "outputs": [],
   "source": []
  },
  {
   "cell_type": "code",
   "execution_count": null,
   "metadata": {},
   "outputs": [],
   "source": []
  }
 ],
 "metadata": {
  "kernelspec": {
   "display_name": "Python 3",
   "language": "python",
   "name": "python3"
  },
  "language_info": {
   "codemirror_mode": {
    "name": "ipython",
    "version": 3
   },
   "file_extension": ".py",
   "mimetype": "text/x-python",
   "name": "python",
   "nbconvert_exporter": "python",
   "pygments_lexer": "ipython3",
   "version": "3.7.4"
  }
 },
 "nbformat": 4,
 "nbformat_minor": 2
}
